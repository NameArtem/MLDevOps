{
 "cells": [
  {
   "cell_type": "markdown",
   "metadata": {},
   "source": [
    "# Train Model\n",
    "> Ridge Regression with random alpha"
   ]
  },
  {
   "cell_type": "code",
   "execution_count": 2,
   "metadata": {},
   "outputs": [],
   "source": [
    "import pickle, os\n",
    "import numpy as np\n",
    "from azureml.core import Workspace\n",
    "from azureml.core.run import Run\n",
    "from sklearn.datasets import load_diabetes\n",
    "from sklearn.linear_model import Ridge\n",
    "from sklearn.metrics import mean_squared_error\n",
    "from sklearn.model_selection import train_test_split\n",
    "from sklearn.externals import joblib"
   ]
  },
  {
   "cell_type": "code",
   "execution_count": 3,
   "metadata": {},
   "outputs": [],
   "source": [
    "RANDOM_STATE = 42\n",
    "MODEL_NAME = \"mymodel.pkl\""
   ]
  },
  {
   "cell_type": "code",
   "execution_count": 4,
   "metadata": {},
   "outputs": [
    {
     "name": "stdout",
     "output_type": "stream",
     "text": [
      "Creating output folder\n"
     ]
    }
   ],
   "source": [
    "print(\"Creating output folder\")\n",
    "os.makedirs('./outputs', exist_ok=True)"
   ]
  },
  {
   "cell_type": "code",
   "execution_count": 5,
   "metadata": {},
   "outputs": [
    {
     "name": "stdout",
     "output_type": "stream",
     "text": [
      "Getting Run context\n"
     ]
    }
   ],
   "source": [
    "print(\"Getting Run context\")\n",
    "run = Run.get_context()"
   ]
  },
  {
   "cell_type": "code",
   "execution_count": 6,
   "metadata": {},
   "outputs": [
    {
     "name": "stdout",
     "output_type": "stream",
     "text": [
      "Loading data\n"
     ]
    }
   ],
   "source": [
    "print(\"Loading data\")\n",
    "X, y = load_diabetes(return_X_y=True)"
   ]
  },
  {
   "cell_type": "code",
   "execution_count": 7,
   "metadata": {},
   "outputs": [
    {
     "name": "stdout",
     "output_type": "stream",
     "text": [
      "Creating train test split\n",
      "Training a ridge regression model with sklearn and random alpha value\n",
      "Alpha is 0.35, and MSE is 2846.80.\n"
     ]
    }
   ],
   "source": [
    "print(\"Creating train test split\")\n",
    "X_train, X_test, y_train, y_test = train_test_split(X, y, test_size=0.25, random_state=RANDOM_STATE)\n",
    "data = {\"train\": {\"X\": X_train, \"y\": y_train}, \"test\": {\"X\": X_test, \"y\": y_test}}\n",
    "\n",
    "# write to outputs\n",
    "with open(\"./outputs/comments.txt\", \"a+\") as myfile:\n",
    "    myfile.write(\"Training a ridge regression model with scikit-learn and random alpha value. \")\n",
    "print(\"Training a ridge regression model with sklearn and random alpha value\")\n",
    "alphas = np.arange(0.0, 1.0, 0.05)\n",
    "alpha = alphas[np.random.choice(alphas.shape[0], 1, replace=False)][0]\n",
    "\n",
    "reg = Ridge(alpha=alpha)\n",
    "reg.fit(data[\"train\"][\"X\"], data[\"train\"][\"y\"])\n",
    "preds = reg.predict(data[\"test\"][\"X\"])\n",
    "mse = mean_squared_error(preds, data[\"test\"][\"y\"])\n",
    "\n",
    "# write to outputs\n",
    "with open(\"./outputs/comments.txt\", \"a\") as myfile:\n",
    "    myfile.write(\"Alpha is {0:.2f}, and MSE is {1:0.2f}\".format(alpha, mse))\n",
    "print(\"Alpha is {0:.2f}, and MSE is {1:0.2f}.\".format(alpha, mse))"
   ]
  },
  {
   "cell_type": "code",
   "execution_count": 8,
   "metadata": {},
   "outputs": [
    {
     "name": "stdout",
     "output_type": "stream",
     "text": [
      "Logging the results\n",
      "Attempted to log scalar metric alpha:\n",
      "0.35000000000000003\n",
      "Attempted to log scalar metric mse:\n",
      "2846.799512699993\n"
     ]
    }
   ],
   "source": [
    "print(\"Logging the results\")\n",
    "run.log(\"alpha\", alpha)\n",
    "run.log(\"mse\", mse)"
   ]
  },
  {
   "cell_type": "code",
   "execution_count": 9,
   "metadata": {},
   "outputs": [
    {
     "name": "stdout",
     "output_type": "stream",
     "text": [
      "Saving model to output folder\n"
     ]
    }
   ],
   "source": [
    "print(\"Saving model to output folder\")\n",
    "with open(MODEL_NAME, \"wb\") as file:\n",
    "    joblib.dump(value=reg, filename=os.path.join(\"./outputs/\", MODEL_NAME))"
   ]
  },
  {
   "cell_type": "code",
   "execution_count": 10,
   "metadata": {},
   "outputs": [
    {
     "name": "stdout",
     "output_type": "stream",
     "text": [
      "Training successfully completed!\n"
     ]
    }
   ],
   "source": [
    "print(\"Training successfully completed!\")"
   ]
  }
 ],
 "metadata": {
  "kernelspec": {
   "display_name": "Python 3",
   "language": "python",
   "name": "python3"
  },
  "language_info": {
   "codemirror_mode": {
    "name": "ipython",
    "version": 3
   },
   "file_extension": ".py",
   "mimetype": "text/x-python",
   "name": "python",
   "nbconvert_exporter": "python",
   "pygments_lexer": "ipython3",
   "version": "3.6.8"
  }
 },
 "nbformat": 4,
 "nbformat_minor": 2
}
