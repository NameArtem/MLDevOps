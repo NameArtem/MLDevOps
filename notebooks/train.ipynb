{
 "cells": [
  {
   "cell_type": "code",
   "execution_count": 2,
   "metadata": {},
   "outputs": [],
   "source": [
    "import pickle, os\n",
    "import numpy as np\n",
    "from azureml.core import Workspace\n",
    "from azureml.core.run import Run\n",
    "from sklearn.datasets import load_diabetes\n",
    "from sklearn.linear_model import Ridge\n",
    "from sklearn.metrics import mean_squared_error\n",
    "from sklearn.model_selection import train_test_split\n",
    "from sklearn.externals import joblib"
   ]
  },
  {
   "cell_type": "code",
   "execution_count": 3,
   "metadata": {},
   "outputs": [],
   "source": [
    "RANDOM_STATE = 42\n",
    "MODEL_NAME = \"mymodel.pkl\""
   ]
  },
  {
   "cell_type": "code",
   "execution_count": 4,
   "metadata": {},
   "outputs": [],
   "source": [
    "run = Run.get_context()"
   ]
  },
  {
   "cell_type": "code",
   "execution_count": 5,
   "metadata": {},
   "outputs": [
    {
     "name": "stdout",
     "output_type": "stream",
     "text": [
      "Alpha is 0.15, and MSE is 2853.30\n",
      "Logging values\n",
      "Attempted to log scalar metric alpha:\n",
      "0.15000000000000002\n",
      "Attempted to log scalar metric mse:\n",
      "2853.2972963668926\n"
     ]
    }
   ],
   "source": [
    "X, y = load_diabetes(return_X_y=True)\n",
    "\n",
    "X_train, X_test, y_train, y_test = train_test_split(X, y, test_size=0.2, random_state=RANDOM_STATE)\n",
    "data = {\"train\": {\"X\": X_train, \"y\": y_train}, \"test\": {\"X\": X_test, \"y\": y_test}}\n",
    "\n",
    "alphas = np.arange(0.0, 1.0, 0.05)\n",
    "alpha = alphas[np.random.choice(alphas.shape[0], 1, replace=False)][0]\n",
    "\n",
    "reg = Ridge(alpha=alpha)\n",
    "reg.fit(data[\"train\"][\"X\"], data[\"train\"][\"y\"])\n",
    "preds = reg.predict(data[\"test\"][\"X\"])\n",
    "mse = mean_squared_error(preds, data[\"test\"][\"y\"])\n",
    "print(\"Alpha is {0:.2f}, and MSE is {1:0.2f}\".format(alpha, mse))\n",
    "\n",
    "print(\"Logging values\")\n",
    "run.log(\"alpha\", alpha)\n",
    "run.log(\"mse\", mse)"
   ]
  },
  {
   "cell_type": "code",
   "execution_count": null,
   "metadata": {},
   "outputs": [],
   "source": []
  }
 ],
 "metadata": {
  "kernelspec": {
   "display_name": "Python 3",
   "language": "python",
   "name": "python3"
  },
  "language_info": {
   "codemirror_mode": {
    "name": "ipython",
    "version": 3
   },
   "file_extension": ".py",
   "mimetype": "text/x-python",
   "name": "python",
   "nbconvert_exporter": "python",
   "pygments_lexer": "ipython3",
   "version": "3.6.8"
  }
 },
 "nbformat": 4,
 "nbformat_minor": 2
}
